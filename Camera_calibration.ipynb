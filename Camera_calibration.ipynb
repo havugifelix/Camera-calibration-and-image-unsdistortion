{
 "cells": [
  {
   "cell_type": "code",
   "execution_count": null,
   "metadata": {},
   "outputs": [],
   "source": [
    "import numpy as np\n",
    "import cv2 as cv\n",
    "import glob\n",
    "from os import listdir\n",
    "from matplotlib import pyplot as plt\n",
    "import glob\n",
    "import os\n",
    "import cv2"
   ]
  },
  {
   "cell_type": "markdown",
   "metadata": {},
   "source": [
    "## Collect 3D objects coordinates"
   ]
  },
  {
   "cell_type": "code",
   "execution_count": null,
   "metadata": {},
   "outputs": [],
   "source": [
    "# The dimension of a checker board\n",
    "CHECKERBOARD=(6,9)\n",
    "path=r\"C:\\Users\\fhvgmana\\Documents\\Spring 2021\\Computer vision\\HW2_Felix\\checkerboard_images\\images\"\n",
    "file_names=os.listdir(path)\n",
    "\n",
    "criteria = (cv.TERM_CRITERIA_EPS + cv.TERM_CRITERIA_MAX_ITER, 30, 0.001)\n",
    "objpoints = []\n",
    "imgpoints = []\n",
    "\n",
    "objp = np.zeros((1, CHECKERBOARD[0] * CHECKERBOARD[1], 3), np.float32)\n",
    "objp[0,:,:2] = np.mgrid[0:CHECKERBOARD[0], 0:CHECKERBOARD[1]].T.reshape(-1, 2)\n",
    "prev_img_shape = None\n",
    "\n",
    "\n",
    "for fname in file_names:\n",
    "#     print(path+\"\\\\\"+fname)\n",
    "    img= cv.imread(path+\"\\\\\"+fname)\n",
    "#     plt.imshow(img)\n",
    "    gray=cv.cvtColor(img,cv2.COLOR_BGR2GRAY)\n",
    "\n",
    "    \n",
    "    ## let's find corners\n",
    "    ret, corners= cv.findChessboardCorners(gray,CHECKERBOARD,\n",
    "                                           cv.CALIB_CB_ADAPTIVE_THRESH + cv.CALIB_CB_FAST_CHECK\n",
    "                                           + cv.CALIB_CB_NORMALIZE_IMAGE)\n",
    "    if ret==True:\n",
    "        objpoints.append(objp)\n",
    "        corners2=  cv.cornerSubPix(gray, corners, (11,11),(-1,-1), criteria)\n",
    "        imgpoints.append(corners2)\n",
    "        img = cv.drawChessboardCorners(img, CHECKERBOARD, corners2, ret)\n",
    "        cv.imshow('img',img)\n",
    "        cv.waitKey(0)\n",
    "    else:\n",
    "        print(\" nope\")\n",
    "cv2.destroyAllWindows()\n",
    "\n",
    "\n",
    "\n",
    "        \n",
    "\n",
    "\n",
    "    \n",
    "    \n",
    "\n",
    "\n",
    "\n"
   ]
  },
  {
   "cell_type": "code",
   "execution_count": null,
   "metadata": {},
   "outputs": [],
   "source": [
    "file_names"
   ]
  },
  {
   "cell_type": "code",
   "execution_count": null,
   "metadata": {},
   "outputs": [],
   "source": []
  },
  {
   "cell_type": "code",
   "execution_count": null,
   "metadata": {},
   "outputs": [],
   "source": []
  }
 ],
 "metadata": {
  "kernelspec": {
   "display_name": "Python 3",
   "language": "python",
   "name": "python3"
  },
  "language_info": {
   "codemirror_mode": {
    "name": "ipython",
    "version": 3
   },
   "file_extension": ".py",
   "mimetype": "text/x-python",
   "name": "python",
   "nbconvert_exporter": "python",
   "pygments_lexer": "ipython3",
   "version": "3.8.5"
  }
 },
 "nbformat": 4,
 "nbformat_minor": 4
}
